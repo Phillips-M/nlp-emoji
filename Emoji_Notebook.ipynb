{
 "cells": [
  {
   "cell_type": "markdown",
   "metadata": {
    "collapsed": false
   },
   "source": [
    "### From CrowdFlower: \n",
    "\n",
    ">A sentiment analysis job about the problems of each major U.S. airline. Twitter data was scraped from February of 2015 and contributors were asked to first classify positive, negative, and neutral tweets, followed by categorizing negative reasons (such as \"late flight\" or \"rude service\")."
   ]
  },
  {
   "cell_type": "code",
   "execution_count": 134,
   "metadata": {
    "collapsed": true
   },
   "outputs": [],
   "source": [
    "import pandas as pd\n",
    "\n",
    "df = pd.read_csv('airline.csv')"
   ]
  },
  {
   "cell_type": "markdown",
   "metadata": {},
   "source": [
    "## EDA, Data Wrangling"
   ]
  },
  {
   "cell_type": "code",
   "execution_count": 135,
   "metadata": {
    "collapsed": false
   },
   "outputs": [
    {
     "data": {
      "text/html": [
       "<div>\n",
       "<table border=\"1\" class=\"dataframe\">\n",
       "  <thead>\n",
       "    <tr style=\"text-align: right;\">\n",
       "      <th></th>\n",
       "      <th>_unit_id</th>\n",
       "      <th>_golden</th>\n",
       "      <th>_unit_state</th>\n",
       "      <th>_trusted_judgments</th>\n",
       "      <th>_last_judgment_at</th>\n",
       "      <th>airline_sentiment</th>\n",
       "      <th>airline_sentiment:confidence</th>\n",
       "      <th>negativereason</th>\n",
       "      <th>negativereason:confidence</th>\n",
       "      <th>airline</th>\n",
       "      <th>airline_sentiment_gold</th>\n",
       "      <th>name</th>\n",
       "      <th>negativereason_gold</th>\n",
       "      <th>retweet_count</th>\n",
       "      <th>text</th>\n",
       "      <th>tweet_coord</th>\n",
       "      <th>tweet_created</th>\n",
       "      <th>tweet_id</th>\n",
       "      <th>tweet_location</th>\n",
       "      <th>user_timezone</th>\n",
       "    </tr>\n",
       "  </thead>\n",
       "  <tbody>\n",
       "    <tr>\n",
       "      <th>0</th>\n",
       "      <td>681448150</td>\n",
       "      <td>False</td>\n",
       "      <td>finalized</td>\n",
       "      <td>3</td>\n",
       "      <td>2/25/2015 05:24:40</td>\n",
       "      <td>neutral</td>\n",
       "      <td>1.0000</td>\n",
       "      <td>NaN</td>\n",
       "      <td>NaN</td>\n",
       "      <td>Virgin America</td>\n",
       "      <td>NaN</td>\n",
       "      <td>cairdin</td>\n",
       "      <td>NaN</td>\n",
       "      <td>0</td>\n",
       "      <td>@VirginAmerica What @dhepburn said.</td>\n",
       "      <td>NaN</td>\n",
       "      <td>2015-02-24 11:35:52 -0800</td>\n",
       "      <td>570306133677760513</td>\n",
       "      <td>NaN</td>\n",
       "      <td>Eastern Time (US &amp; Canada)</td>\n",
       "    </tr>\n",
       "    <tr>\n",
       "      <th>1</th>\n",
       "      <td>681448153</td>\n",
       "      <td>False</td>\n",
       "      <td>finalized</td>\n",
       "      <td>3</td>\n",
       "      <td>2/25/2015 01:53:36</td>\n",
       "      <td>positive</td>\n",
       "      <td>0.3486</td>\n",
       "      <td>NaN</td>\n",
       "      <td>0.0000</td>\n",
       "      <td>Virgin America</td>\n",
       "      <td>NaN</td>\n",
       "      <td>jnardino</td>\n",
       "      <td>NaN</td>\n",
       "      <td>0</td>\n",
       "      <td>@VirginAmerica plus you've added commercials t...</td>\n",
       "      <td>NaN</td>\n",
       "      <td>2015-02-24 11:15:59 -0800</td>\n",
       "      <td>570301130888122368</td>\n",
       "      <td>NaN</td>\n",
       "      <td>Pacific Time (US &amp; Canada)</td>\n",
       "    </tr>\n",
       "    <tr>\n",
       "      <th>2</th>\n",
       "      <td>681448156</td>\n",
       "      <td>False</td>\n",
       "      <td>finalized</td>\n",
       "      <td>3</td>\n",
       "      <td>2/25/2015 10:01:15</td>\n",
       "      <td>neutral</td>\n",
       "      <td>0.6837</td>\n",
       "      <td>NaN</td>\n",
       "      <td>NaN</td>\n",
       "      <td>Virgin America</td>\n",
       "      <td>NaN</td>\n",
       "      <td>yvonnalynn</td>\n",
       "      <td>NaN</td>\n",
       "      <td>0</td>\n",
       "      <td>@VirginAmerica I didn't today... Must mean I n...</td>\n",
       "      <td>NaN</td>\n",
       "      <td>2015-02-24 11:15:48 -0800</td>\n",
       "      <td>570301083672813571</td>\n",
       "      <td>Lets Play</td>\n",
       "      <td>Central Time (US &amp; Canada)</td>\n",
       "    </tr>\n",
       "    <tr>\n",
       "      <th>3</th>\n",
       "      <td>681448158</td>\n",
       "      <td>False</td>\n",
       "      <td>finalized</td>\n",
       "      <td>3</td>\n",
       "      <td>2/25/2015 03:05:28</td>\n",
       "      <td>negative</td>\n",
       "      <td>1.0000</td>\n",
       "      <td>Bad Flight</td>\n",
       "      <td>0.7033</td>\n",
       "      <td>Virgin America</td>\n",
       "      <td>NaN</td>\n",
       "      <td>jnardino</td>\n",
       "      <td>NaN</td>\n",
       "      <td>0</td>\n",
       "      <td>@VirginAmerica it's really aggressive to blast...</td>\n",
       "      <td>NaN</td>\n",
       "      <td>2015-02-24 11:15:36 -0800</td>\n",
       "      <td>570301031407624196</td>\n",
       "      <td>NaN</td>\n",
       "      <td>Pacific Time (US &amp; Canada)</td>\n",
       "    </tr>\n",
       "    <tr>\n",
       "      <th>4</th>\n",
       "      <td>681448159</td>\n",
       "      <td>False</td>\n",
       "      <td>finalized</td>\n",
       "      <td>3</td>\n",
       "      <td>2/25/2015 05:50:28</td>\n",
       "      <td>negative</td>\n",
       "      <td>1.0000</td>\n",
       "      <td>Can't Tell</td>\n",
       "      <td>1.0000</td>\n",
       "      <td>Virgin America</td>\n",
       "      <td>NaN</td>\n",
       "      <td>jnardino</td>\n",
       "      <td>NaN</td>\n",
       "      <td>0</td>\n",
       "      <td>@VirginAmerica and it's a really big bad thing...</td>\n",
       "      <td>NaN</td>\n",
       "      <td>2015-02-24 11:14:45 -0800</td>\n",
       "      <td>570300817074462722</td>\n",
       "      <td>NaN</td>\n",
       "      <td>Pacific Time (US &amp; Canada)</td>\n",
       "    </tr>\n",
       "  </tbody>\n",
       "</table>\n",
       "</div>"
      ],
      "text/plain": [
       "    _unit_id _golden _unit_state  _trusted_judgments   _last_judgment_at  \\\n",
       "0  681448150   False   finalized                   3  2/25/2015 05:24:40   \n",
       "1  681448153   False   finalized                   3  2/25/2015 01:53:36   \n",
       "2  681448156   False   finalized                   3  2/25/2015 10:01:15   \n",
       "3  681448158   False   finalized                   3  2/25/2015 03:05:28   \n",
       "4  681448159   False   finalized                   3  2/25/2015 05:50:28   \n",
       "\n",
       "  airline_sentiment  airline_sentiment:confidence negativereason  \\\n",
       "0           neutral                        1.0000            NaN   \n",
       "1          positive                        0.3486            NaN   \n",
       "2           neutral                        0.6837            NaN   \n",
       "3          negative                        1.0000     Bad Flight   \n",
       "4          negative                        1.0000     Can't Tell   \n",
       "\n",
       "   negativereason:confidence         airline airline_sentiment_gold  \\\n",
       "0                        NaN  Virgin America                    NaN   \n",
       "1                     0.0000  Virgin America                    NaN   \n",
       "2                        NaN  Virgin America                    NaN   \n",
       "3                     0.7033  Virgin America                    NaN   \n",
       "4                     1.0000  Virgin America                    NaN   \n",
       "\n",
       "         name negativereason_gold  retweet_count  \\\n",
       "0     cairdin                 NaN              0   \n",
       "1    jnardino                 NaN              0   \n",
       "2  yvonnalynn                 NaN              0   \n",
       "3    jnardino                 NaN              0   \n",
       "4    jnardino                 NaN              0   \n",
       "\n",
       "                                                text tweet_coord  \\\n",
       "0                @VirginAmerica What @dhepburn said.         NaN   \n",
       "1  @VirginAmerica plus you've added commercials t...         NaN   \n",
       "2  @VirginAmerica I didn't today... Must mean I n...         NaN   \n",
       "3  @VirginAmerica it's really aggressive to blast...         NaN   \n",
       "4  @VirginAmerica and it's a really big bad thing...         NaN   \n",
       "\n",
       "               tweet_created            tweet_id tweet_location  \\\n",
       "0  2015-02-24 11:35:52 -0800  570306133677760513            NaN   \n",
       "1  2015-02-24 11:15:59 -0800  570301130888122368            NaN   \n",
       "2  2015-02-24 11:15:48 -0800  570301083672813571      Lets Play   \n",
       "3  2015-02-24 11:15:36 -0800  570301031407624196            NaN   \n",
       "4  2015-02-24 11:14:45 -0800  570300817074462722            NaN   \n",
       "\n",
       "                user_timezone  \n",
       "0  Eastern Time (US & Canada)  \n",
       "1  Pacific Time (US & Canada)  \n",
       "2  Central Time (US & Canada)  \n",
       "3  Pacific Time (US & Canada)  \n",
       "4  Pacific Time (US & Canada)  "
      ]
     },
     "execution_count": 135,
     "metadata": {},
     "output_type": "execute_result"
    }
   ],
   "source": [
    "df.head()"
   ]
  },
  {
   "cell_type": "code",
   "execution_count": 136,
   "metadata": {
    "collapsed": false
   },
   "outputs": [],
   "source": [
    "df = df[['airline_sentiment','text']]"
   ]
  },
  {
   "cell_type": "code",
   "execution_count": 137,
   "metadata": {
    "collapsed": false
   },
   "outputs": [
    {
     "data": {
      "text/html": [
       "<div>\n",
       "<table border=\"1\" class=\"dataframe\">\n",
       "  <thead>\n",
       "    <tr style=\"text-align: right;\">\n",
       "      <th></th>\n",
       "      <th>airline_sentiment</th>\n",
       "      <th>text</th>\n",
       "    </tr>\n",
       "  </thead>\n",
       "  <tbody>\n",
       "    <tr>\n",
       "      <th>0</th>\n",
       "      <td>neutral</td>\n",
       "      <td>@VirginAmerica What @dhepburn said.</td>\n",
       "    </tr>\n",
       "    <tr>\n",
       "      <th>1</th>\n",
       "      <td>positive</td>\n",
       "      <td>@VirginAmerica plus you've added commercials t...</td>\n",
       "    </tr>\n",
       "    <tr>\n",
       "      <th>2</th>\n",
       "      <td>neutral</td>\n",
       "      <td>@VirginAmerica I didn't today... Must mean I n...</td>\n",
       "    </tr>\n",
       "    <tr>\n",
       "      <th>3</th>\n",
       "      <td>negative</td>\n",
       "      <td>@VirginAmerica it's really aggressive to blast...</td>\n",
       "    </tr>\n",
       "    <tr>\n",
       "      <th>4</th>\n",
       "      <td>negative</td>\n",
       "      <td>@VirginAmerica and it's a really big bad thing...</td>\n",
       "    </tr>\n",
       "  </tbody>\n",
       "</table>\n",
       "</div>"
      ],
      "text/plain": [
       "  airline_sentiment                                               text\n",
       "0           neutral                @VirginAmerica What @dhepburn said.\n",
       "1          positive  @VirginAmerica plus you've added commercials t...\n",
       "2           neutral  @VirginAmerica I didn't today... Must mean I n...\n",
       "3          negative  @VirginAmerica it's really aggressive to blast...\n",
       "4          negative  @VirginAmerica and it's a really big bad thing..."
      ]
     },
     "execution_count": 137,
     "metadata": {},
     "output_type": "execute_result"
    }
   ],
   "source": [
    "df.head()"
   ]
  },
  {
   "cell_type": "code",
   "execution_count": 138,
   "metadata": {
    "collapsed": false,
    "scrolled": false
   },
   "outputs": [
    {
     "data": {
      "image/png": "[encoded data removed]",
      "text/plain": [
       "<matplotlib.figure.Figure at 0x10e242d50>"
      ]
     },
     "metadata": {},
     "output_type": "display_data"
    }
   ],
   "source": [
    "import matplotlib.pyplot as plt\n",
    "from collections import Counter\n",
    "plt.style.use('ggplot')\n",
    "%matplotlib inline\n",
    "\n",
    "sentiment = Counter(df['airline_sentiment']).keys()\n",
    "counts = Counter(df['airline_sentiment']).values()\n",
    "plt.figure(figsize=(10,10))\n",
    "plt.bar([1,2,3], counts, align='center')\n",
    "plt.xticks([1,2,3], sentiment)\n",
    "plt.show();"
   ]
  },
  {
   "cell_type": "code",
   "execution_count": 139,
   "metadata": {
    "collapsed": false
   },
   "outputs": [
    {
     "data": {
      "text/plain": [
       "0                   @VirginAmerica What @dhepburn said.\n",
       "1     @VirginAmerica plus you've added commercials t...\n",
       "2     @VirginAmerica I didn't today... Must mean I n...\n",
       "3     @VirginAmerica it's really aggressive to blast...\n",
       "4     @VirginAmerica and it's a really big bad thing...\n",
       "5     @VirginAmerica seriously would pay $30 a fligh...\n",
       "6     @VirginAmerica yes, nearly every time I fly VX...\n",
       "7     @VirginAmerica Really missed a prime opportuni...\n",
       "8       @virginamerica Well, I didn't…but NOW I DO! :-D\n",
       "9     @VirginAmerica it was amazing, and arrived an ...\n",
       "10    @VirginAmerica did you know that suicide is th...\n",
       "11    @VirginAmerica I &lt;3 pretty graphics. so muc...\n",
       "12    @VirginAmerica This is such a great deal! Alre...\n",
       "13    @VirginAmerica @virginmedia I'm flying your #f...\n",
       "14                               @VirginAmerica Thanks!\n",
       "15        @VirginAmerica SFO-PDX schedule is still MIA.\n",
       "16    @VirginAmerica So excited for my first cross c...\n",
       "17    @VirginAmerica  I flew from NYC to SFO last we...\n",
       "18                     I ❤️ flying @VirginAmerica. ☺️👍\n",
       "19    @VirginAmerica you know what would be amazingl...\n",
       "Name: text, dtype: object"
      ]
     },
     "execution_count": 139,
     "metadata": {},
     "output_type": "execute_result"
    }
   ],
   "source": [
    "df['text'][:20]"
   ]
  },
  {
   "cell_type": "code",
   "execution_count": 140,
   "metadata": {
    "collapsed": false
   },
   "outputs": [],
   "source": [
    "# Decode to UTF-8\n",
    "\n",
    "df['text'] = df['text'].map(lambda x: x.decode('utf8'))"
   ]
  },
  {
   "cell_type": "code",
   "execution_count": 141,
   "metadata": {
    "collapsed": false
   },
   "outputs": [],
   "source": [
    "words = []\n",
    "for i in range(len(df['text'])):\n",
    "    words.append(df['text'][i].split())\n",
    "\n",
    "import itertools\n",
    "words = list(itertools.chain.from_iterable(words))\n",
    "most_common = Counter(words).most_common()[:50]"
   ]
  },
  {
   "cell_type": "code",
   "execution_count": 142,
   "metadata": {
    "collapsed": false
   },
   "outputs": [
    {
     "data": {
      "image/png": "[encoded data removed]",
      "text/plain": [
       "<matplotlib.figure.Figure at 0x10e270790>"
      ]
     },
     "metadata": {},
     "output_type": "display_data"
    }
   ],
   "source": [
    "plt.figure(figsize=(20,20))\n",
    "plt.bar(range(len(most_common)), [tup[1] / float(len(Counter(words))) for tup in most_common])\n",
    "plt.xticks(range(len(most_common)), [tup[0] for tup in most_common])\n",
    "plt.title(\"Word Frequencies Across All Tweets\")\n",
    "plt.xlabel(\"Word\")\n",
    "plt.ylabel(\"Frequency\")\n",
    "plt.show();"
   ]
  },
  {
   "cell_type": "markdown",
   "metadata": {},
   "source": [
    "## First pass at modeling"
   ]
  },
  {
   "cell_type": "markdown",
   "metadata": {},
   "source": [
    "### Discuss vectorization methods"
   ]
  },
  {
   "cell_type": "code",
   "execution_count": 7,
   "metadata": {
    "collapsed": true
   },
   "outputs": [],
   "source": [
    "from sklearn.feature_extraction.text import CountVectorizer, TfidfVectorizer"
   ]
  },
  {
   "cell_type": "code",
   "execution_count": 19,
   "metadata": {
    "collapsed": false
   },
   "outputs": [
    {
     "name": "stdout",
     "output_type": "stream",
     "text": [
      "There are 15,051 total words in the vocabulary.\n"
     ]
    }
   ],
   "source": [
    "from sklearn.cross_validation import KFold\n",
    "from sklearn.feature_extraction.text import CountVectorizer, TfidfVectorizer\n",
    "\n",
    "vocab_vectorizer = CountVectorizer()\n",
    "vocab_vectorizer.fit_transform(df['text'])\n",
    "\n",
    "print(\"There are {:,} total words in the vocabulary.\".format(len(vocab_vectorizer.vocabulary_)))"
   ]
  },
  {
   "cell_type": "markdown",
   "metadata": {},
   "source": [
    "### Bernoulli Naive Bayes"
   ]
  },
  {
   "cell_type": "code",
   "execution_count": 9,
   "metadata": {
    "collapsed": false
   },
   "outputs": [],
   "source": [
    "from sklearn.naive_bayes import MultinomialNB, BernoulliNB\n",
    "\n",
    "bnb = BernoulliNB()"
   ]
  },
  {
   "cell_type": "markdown",
   "metadata": {},
   "source": [
    "### Multinomial Naive Bayes"
   ]
  },
  {
   "cell_type": "code",
   "execution_count": 10,
   "metadata": {
    "collapsed": false
   },
   "outputs": [],
   "source": [
    "mnb = MultinomialNB()"
   ]
  },
  {
   "cell_type": "markdown",
   "metadata": {},
   "source": [
    "### Logistic Regression"
   ]
  },
  {
   "cell_type": "code",
   "execution_count": 11,
   "metadata": {
    "collapsed": false
   },
   "outputs": [],
   "source": [
    "from sklearn.linear_model import LogisticRegression\n",
    "\n",
    "lr = LogisticRegression()"
   ]
  },
  {
   "cell_type": "markdown",
   "metadata": {},
   "source": [
    "### Support Vector Classifier"
   ]
  },
  {
   "cell_type": "code",
   "execution_count": 12,
   "metadata": {
    "collapsed": false
   },
   "outputs": [],
   "source": [
    "from sklearn.svm import SVC\n",
    "\n",
    "svc = SVC(kernel = 'poly')"
   ]
  },
  {
   "cell_type": "markdown",
   "metadata": {},
   "source": [
    "### Random Forest"
   ]
  },
  {
   "cell_type": "code",
   "execution_count": 13,
   "metadata": {
    "collapsed": false
   },
   "outputs": [],
   "source": [
    "from sklearn.ensemble import RandomForestClassifier\n",
    "\n",
    "rf = RandomForestClassifier()"
   ]
  },
  {
   "cell_type": "markdown",
   "metadata": {},
   "source": [
    "### Boosted Classifiers"
   ]
  },
  {
   "cell_type": "code",
   "execution_count": 14,
   "metadata": {
    "collapsed": false
   },
   "outputs": [],
   "source": [
    "from sklearn.ensemble import AdaBoostClassifier, GradientBoostingClassifier\n",
    "\n",
    "ada = AdaBoostClassifier()"
   ]
  },
  {
   "cell_type": "code",
   "execution_count": 17,
   "metadata": {
    "collapsed": false
   },
   "outputs": [],
   "source": [
    "import numpy as np\n",
    "from sklearn.cross_validation import train_test_split\n",
    "from sklearn.metrics import f1_score,accuracy_score, roc_curve\n",
    "\n",
    "def cross_validated_metric(estimator, metric, data, target):\n",
    "    \"\"\"\n",
    "    Input: Instance of estimator, metric: ['F1 Score', 'accuracy'], data, target\n",
    "    \n",
    "    Output: 10-fold cross-validated metric of input estimator\n",
    "    \n",
    "    \"\"\"\n",
    "    \n",
    "    if metric == 'F1 score':\n",
    "        cv_metric = f1_score\n",
    "            \n",
    "    elif metric == 'accuracy':\n",
    "        cv_metric = accuracy_score\n",
    "        \n",
    "    vectorizer = CountVectorizer()\n",
    "                \n",
    "    scores = []\n",
    "    for i in xrange(10):\n",
    "                \n",
    "        train_data, test_data, train_target, test_target = train_test_split(data, target)\n",
    "        \n",
    "        vectorized_train_data = vectorizer.fit_transform(train_data)\n",
    "        vectorized_train_data \n",
    "        \n",
    "        estimator.fit(vectorized_train_data, train_target)\n",
    "        \n",
    "        pred_target = estimator.predict(vectorizer.transform(test_data))\n",
    "        \n",
    "        ## Unartful hack for weighted F1-Score in multiclass case\n",
    "        if len(set(target)) == 3 and cv_metric == f1_score:\n",
    "            scores.append(cv_metric(test_target, pred_target, average='weighted'))\n",
    "        else:\n",
    "            scores.append(cv_metric(test_target, pred_target))\n",
    "        \n",
    "    return (\"The cross-validated {} on the test data from {} is {:.4}\".format(metric, \\\n",
    "                                                                    estimator.__class__.__name__, np.mean(scores)))  "
   ]
  },
  {
   "cell_type": "markdown",
   "metadata": {},
   "source": [
    "### Cross-validated results WITHOUT feature engineering"
   ]
  },
  {
   "cell_type": "code",
   "execution_count": 18,
   "metadata": {
    "collapsed": false
   },
   "outputs": [
    {
     "name": "stdout",
     "output_type": "stream",
     "text": [
      "The cross-validated accuracy on the test data from MultinomialNB is 0.7665\n",
      "\n",
      "The cross-validated accuracy on the test data from BernoulliNB is 0.7678\n",
      "\n",
      "The cross-validated accuracy on the test data from LogisticRegression is 0.8059\n",
      "\n",
      "The cross-validated accuracy on the test data from SVC is 0.6249\n",
      "\n",
      "The cross-validated accuracy on the test data from RandomForestClassifier is 0.7352\n",
      "\n"
     ]
    }
   ],
   "source": [
    "for estimator in [mnb, bnb, lr, svc, rf]:\n",
    "    print(cross_validated_metric(estimator, 'accuracy', df['text'], df['airline_sentiment']))\n",
    "    print"
   ]
  },
  {
   "cell_type": "markdown",
   "metadata": {},
   "source": [
    "## Feature engineering"
   ]
  },
  {
   "cell_type": "code",
   "execution_count": 143,
   "metadata": {
    "collapsed": true
   },
   "outputs": [],
   "source": [
    "# Make lowercase, \"stem\" hashtags by removing hash key, remove @mentions\n",
    "import re\n",
    "\n",
    "df['text'] = df['text'].map(lambda x: x.lower()).map(lambda x: x.replace('\\\\',' '))\n",
    "df['text'] = df['text'].map(lambda x: x.replace('#','')).map(lambda x: re.sub(r'@[A-Za-z]+', ' ', x))"
   ]
  },
  {
   "cell_type": "code",
   "execution_count": 155,
   "metadata": {
    "collapsed": false
   },
   "outputs": [],
   "source": [
    "# Parse emoji\n",
    "\n",
    "df['text'] = df['text'].map(lambda x: re.sub(ur'([\\u2000-\\u3000]+)', ur'\\1 ', x))"
   ]
  },
  {
   "cell_type": "code",
   "execution_count": 22,
   "metadata": {
    "collapsed": true
   },
   "outputs": [],
   "source": [
    "# Add negation features\n",
    "\n",
    "def negate_sequence(text):\n",
    "    negation = False\n",
    "    delims = \"?.,!:;\"\n",
    "    result = []\n",
    "    words = text.split()\n",
    "    for word in words:\n",
    "        stripped = word.strip(delims).lower()\n",
    "        negated = \"not_\" + stripped if negation else stripped\n",
    " \n",
    "        if word.endswith((\"not\", \"n't \", \"no\")):\n",
    "#         if any(neg in word for neg in [\"not\", \"n't \", \"no\"]):\n",
    "            negation = not negation\n",
    "            \n",
    "\n",
    "        if any(c in word for c in delims):\n",
    "            negation = False\n",
    "        \n",
    "        \n",
    "        result.append(negated)\n",
    "    return ' '.join(result)\n",
    "\n",
    "df['text'] = df['text'].map(lambda x: negate_sequence(x))"
   ]
  },
  {
   "cell_type": "code",
   "execution_count": 23,
   "metadata": {
    "collapsed": true
   },
   "outputs": [],
   "source": [
    "# Decrease noise by removing numbers\n",
    "\n",
    "df['text'] = df['text'].map(lambda x: re.sub(r'[0-9]', '', x))"
   ]
  },
  {
   "cell_type": "code",
   "execution_count": 24,
   "metadata": {
    "collapsed": false
   },
   "outputs": [
    {
     "data": {
      "text/plain": [
       "0                                             what said\n",
       "1     plus you've added commercials to the experienc...\n",
       "2     i didn't today must mean i need to take anothe...\n",
       "3     it's really aggressive to blast obnoxious \"ent...\n",
       "4              and it's a really big bad thing about it\n",
       "5     seriously would pay $ a flight for seats that ...\n",
       "6     yes nearly every time i fly vx this “ ear worm...\n",
       "7     really missed a prime opportunity for men with...\n",
       "8                        well i didn't… but now i do -d\n",
       "9     it was amazing and arrived an hour early you'r...\n",
       "10    did you know that suicide is the second leadin...\n",
       "11    i &lt; pretty graphics so much better than min...\n",
       "12    this is such a great deal already thinking abo...\n",
       "13    i'm flying your fabulous seductive skies again...\n",
       "14                                               thanks\n",
       "15                        sfo-pdx schedule is still mia\n",
       "16    so excited for my first cross country flight l...\n",
       "17    i flew from nyc to sfo last week and couldn't ...\n",
       "18                                  i ❤ ️ flying  ☺ ️👍\n",
       "19    you know what would be amazingly awesome bos-f...\n",
       "Name: text, dtype: object"
      ]
     },
     "execution_count": 24,
     "metadata": {},
     "output_type": "execute_result"
    }
   ],
   "source": [
    "df['text'][:20]"
   ]
  },
  {
   "cell_type": "markdown",
   "metadata": {},
   "source": [
    "### Create separate column 'words' which are alphabetical text only "
   ]
  },
  {
   "cell_type": "code",
   "execution_count": 25,
   "metadata": {
    "collapsed": true
   },
   "outputs": [],
   "source": [
    "df['words'] = df['text'].map(lambda x: re.sub(r'[^A-Za-z]', ' ', x))"
   ]
  },
  {
   "cell_type": "code",
   "execution_count": 26,
   "metadata": {
    "collapsed": false
   },
   "outputs": [
    {
     "data": {
      "text/plain": [
       "0                                             what said\n",
       "1     plus you ve added commercials to the experienc...\n",
       "2     i didn t today must mean i need to take anothe...\n",
       "3     it s really aggressive to blast obnoxious  ent...\n",
       "4              and it s a really big bad thing about it\n",
       "5     seriously would pay   a flight for seats that ...\n",
       "6     yes nearly every time i fly vx this   ear worm...\n",
       "7     really missed a prime opportunity for men with...\n",
       "8                        well i didn t  but now i do  d\n",
       "9     it was amazing and arrived an hour early you r...\n",
       "10    did you know that suicide is the second leadin...\n",
       "11    i  lt  pretty graphics so much better than min...\n",
       "12    this is such a great deal already thinking abo...\n",
       "13    i m flying your fabulous seductive skies again...\n",
       "14                                               thanks\n",
       "15                        sfo pdx schedule is still mia\n",
       "16    so excited for my first cross country flight l...\n",
       "17    i flew from nyc to sfo last week and couldn t ...\n",
       "18                                  i     flying       \n",
       "19    you know what would be amazingly awesome bos f...\n",
       "Name: words, dtype: object"
      ]
     },
     "execution_count": 26,
     "metadata": {},
     "output_type": "execute_result"
    }
   ],
   "source": [
    "df['words'][:20]"
   ]
  },
  {
   "cell_type": "markdown",
   "metadata": {},
   "source": [
    "### Cross-validated results WITH feature engineering"
   ]
  },
  {
   "cell_type": "code",
   "execution_count": 27,
   "metadata": {
    "collapsed": false
   },
   "outputs": [
    {
     "name": "stdout",
     "output_type": "stream",
     "text": [
      "The cross-validated accuracy on the test data from MultinomialNB is 0.7708\n",
      "\n",
      "The cross-validated accuracy on the test data from BernoulliNB is 0.7743\n",
      "\n",
      "The cross-validated accuracy on the test data from LogisticRegression is 0.8018\n",
      "\n",
      "The cross-validated accuracy on the test data from SVC is 0.6264\n",
      "\n",
      "The cross-validated accuracy on the test data from RandomForestClassifier is 0.7369\n",
      "\n"
     ]
    }
   ],
   "source": [
    "for estimator in [mnb, bnb, lr, svc, rf]:\n",
    "    print(cross_validated_metric(estimator, 'accuracy', df['text'], df['airline_sentiment']))\n",
    "    print"
   ]
  },
  {
   "cell_type": "markdown",
   "metadata": {
    "collapsed": true
   },
   "source": [
    "### Cross-validated results WITH feature engineering on 'words'"
   ]
  },
  {
   "cell_type": "code",
   "execution_count": 28,
   "metadata": {
    "collapsed": false
   },
   "outputs": [
    {
     "name": "stdout",
     "output_type": "stream",
     "text": [
      "The cross-validated accuracy on the test data from MultinomialNB is 0.7737\n",
      "\n",
      "The cross-validated accuracy on the test data from BernoulliNB is 0.7795\n",
      "\n",
      "The cross-validated accuracy on the test data from LogisticRegression is 0.802\n",
      "\n"
     ]
    }
   ],
   "source": [
    "for estimator in [mnb, bnb, lr]:\n",
    "    print(cross_validated_metric(estimator, 'accuracy', df['words'], df['airline_sentiment']))\n",
    "    print"
   ]
  },
  {
   "cell_type": "markdown",
   "metadata": {},
   "source": [
    "## Restrict sentiments to either positive or negative"
   ]
  },
  {
   "cell_type": "code",
   "execution_count": 29,
   "metadata": {
    "collapsed": true
   },
   "outputs": [],
   "source": [
    "dfNew = df[df['airline_sentiment'] != 'neutral']\n",
    "dfNew = dfNew.replace(to_replace=['negative', 'positive'], value=[0,1] )"
   ]
  },
  {
   "cell_type": "markdown",
   "metadata": {},
   "source": [
    "### Cross-validated results on binary classification on 'text'"
   ]
  },
  {
   "cell_type": "code",
   "execution_count": 30,
   "metadata": {
    "collapsed": false
   },
   "outputs": [
    {
     "name": "stdout",
     "output_type": "stream",
     "text": [
      "The cross-validated accuracy on the test data from MultinomialNB is 0.9082\n",
      "\n",
      "The cross-validated accuracy on the test data from BernoulliNB is 0.9109\n",
      "\n",
      "The cross-validated accuracy on the test data from LogisticRegression is 0.9225\n",
      "\n"
     ]
    }
   ],
   "source": [
    "for estimator in [mnb, bnb, lr]:\n",
    "    print(cross_validated_metric(estimator, 'accuracy', dfNew['text'], dfNew['airline_sentiment']))\n",
    "    print"
   ]
  },
  {
   "cell_type": "markdown",
   "metadata": {},
   "source": [
    "### Cross-validated results on binary classification on 'words'"
   ]
  },
  {
   "cell_type": "code",
   "execution_count": 31,
   "metadata": {
    "collapsed": false
   },
   "outputs": [
    {
     "name": "stdout",
     "output_type": "stream",
     "text": [
      "The cross-validated accuracy on the test data from MultinomialNB is 0.9091\n",
      "\n",
      "The cross-validated accuracy on the test data from BernoulliNB is 0.9088\n",
      "\n",
      "The cross-validated accuracy on the test data from LogisticRegression is 0.9212\n",
      "\n"
     ]
    }
   ],
   "source": [
    "for estimator in [mnb, bnb, lr]:\n",
    "    print(cross_validated_metric(estimator, 'accuracy', dfNew['words'], dfNew['airline_sentiment']))\n",
    "    print"
   ]
  },
  {
   "cell_type": "markdown",
   "metadata": {},
   "source": [
    "### Grid Search"
   ]
  },
  {
   "cell_type": "code",
   "execution_count": 33,
   "metadata": {
    "collapsed": false
   },
   "outputs": [],
   "source": [
    "train_data2, test_data2, train_target2, test_target2 = train_test_split(dfNew['text'], dfNew['airline_sentiment'])\n",
    "\n",
    "\n",
    "vectorizer = CountVectorizer()\n",
    "vectorized_train_data2 = vectorizer.fit_transform(train_data2)"
   ]
  },
  {
   "cell_type": "code",
   "execution_count": 34,
   "metadata": {
    "collapsed": false,
    "scrolled": true
   },
   "outputs": [
    {
     "data": {
      "text/plain": [
       "GridSearchCV(cv=None, error_score='raise',\n",
       "       estimator=LogisticRegression(C=1.0, class_weight=None, dual=False, fit_intercept=True,\n",
       "          intercept_scaling=1, max_iter=100, multi_class='ovr',\n",
       "          penalty='l2', random_state=None, solver='liblinear', tol=0.0001,\n",
       "          verbose=0),\n",
       "       fit_params={}, iid=True, loss_func=None, n_jobs=1,\n",
       "       param_grid={'penalty': ('l1', 'l2'), 'C': [0.5, 1.0, 2.0], 'solver': ('newton-cg', 'lbfgs', 'liblinear')},\n",
       "       pre_dispatch='2*n_jobs', refit=True, score_func=None, scoring=None,\n",
       "       verbose=0)"
      ]
     },
     "execution_count": 34,
     "metadata": {},
     "output_type": "execute_result"
    }
   ],
   "source": [
    "from sklearn.grid_search import GridSearchCV\n",
    "\n",
    "lr_parameters = {'penalty': ('l1','l2'),'C':[0.5, 1.0, 2.0], 'solver': ('newton-cg', 'lbfgs', 'liblinear')}\n",
    "\n",
    "grid = grid_search = GridSearchCV(lr, lr_parameters)\n",
    "\n",
    "grid.fit(vectorized_train_data2,train_target2)"
   ]
  },
  {
   "cell_type": "code",
   "execution_count": 35,
   "metadata": {
    "collapsed": true
   },
   "outputs": [],
   "source": [
    "grid_lr = LogisticRegression(C=1.0, class_weight=None, dual=False, fit_intercept=True,\n",
    "          intercept_scaling=1, max_iter=100, multi_class='ovr',\n",
    "          penalty='l2', random_state=None, solver='liblinear', tol=0.0001,\n",
    "          verbose=0)\n",
    "\n",
    "grid_lr.fit(vectorized_train_data2,train_target2)\n",
    "\n",
    "pred_target = grid_lr.predict(vectorizer.transform(test_data2))"
   ]
  },
  {
   "cell_type": "markdown",
   "metadata": {},
   "source": [
    "### Cross-validated results on LogisticRegression with GridSearch optimal parameters"
   ]
  },
  {
   "cell_type": "code",
   "execution_count": 36,
   "metadata": {
    "collapsed": false
   },
   "outputs": [
    {
     "name": "stdout",
     "output_type": "stream",
     "text": [
      "On 'text': The cross-validated accuracy on the test data from LogisticRegression is 0.9228\n",
      "\n",
      "On 'words': The cross-validated accuracy on the test data from LogisticRegression is 0.922\n"
     ]
    }
   ],
   "source": [
    "print(\"On 'text':\") , cross_validated_metric(grid_lr, 'accuracy', dfNew['text'], dfNew['airline_sentiment'])\n",
    "print\n",
    "print(\"On 'words':\") , cross_validated_metric(grid_lr, 'accuracy', dfNew['words'], dfNew['airline_sentiment'])"
   ]
  },
  {
   "cell_type": "code",
   "execution_count": 37,
   "metadata": {
    "collapsed": false
   },
   "outputs": [],
   "source": [
    "fpr, tpr, thresholds = roc_curve(test_target2, pred_target, pos_label=1)"
   ]
  },
  {
   "cell_type": "code",
   "execution_count": 38,
   "metadata": {
    "collapsed": false
   },
   "outputs": [
    {
     "data": {
      "image/png": "[encoded data removed]",
      "text/plain": [
       "<matplotlib.figure.Figure at 0x11180d650>"
      ]
     },
     "metadata": {},
     "output_type": "display_data"
    }
   ],
   "source": [
    "plt.figure(figsize=(8,8))\n",
    "plt.plot(fpr, tpr, 'k--')\n",
    "plt.title('True Positive / False Positive Rates')\n",
    "plt.xlabel('False Positive Rate')\n",
    "plt.ylabel('True Positive Rate')\n",
    "plt.show();"
   ]
  },
  {
   "cell_type": "markdown",
   "metadata": {},
   "source": [
    "### Feature importance ranking"
   ]
  },
  {
   "cell_type": "code",
   "execution_count": 91,
   "metadata": {
    "collapsed": false
   },
   "outputs": [
    {
     "name": "stdout",
     "output_type": "stream",
     "text": [
      "(1, 3.6040030070203719, u'preferences')\n",
      "(1, 2.9174646862724543, u'premiere')\n",
      "(1, 2.8252884019180278, u'attitudy')\n",
      "(1, 2.5709721191456918, u'shower')\n",
      "(1, 2.5091328489677469, u'grounded')\n",
      "(1, 2.4289819341938963, u'mac')\n",
      "(1, 2.2619371817422897, u'alison')\n",
      "(1, 2.1964110160701811, u'lastflightofthenight')\n",
      "(1, 2.1416369620741591, u'becuz')\n",
      "(1, 2.0669142135440262, u'shopping')\n",
      "(1, 2.0512846961754727, u'expenses')\n",
      "(1, 2.0375444687851463, u'corevalues')\n",
      "(1, 1.9140986236955784, u'preflight')\n",
      "(1, 1.913376444921133, u'include')\n",
      "(1, 1.7734793752435172, u'prom')\n",
      "(1, 1.760241815868828, u'experiencing')\n",
      "(1, 1.7050968625545166, u'answerphone')\n",
      "(1, 1.6472842097008966, u'not_meals')\n",
      "(1, 1.4918204962465043, u'not_flightlations')\n",
      "(1, 1.4208531763249108, u'goyxtmj')\n",
      "\n",
      "\n",
      "(0, -1.3048558633131253, u'offensively')\n",
      "(0, -1.331788137933922, u'not_worthy')\n",
      "(0, -1.3492711394147177, u'argueing')\n",
      "(0, -1.3691777110362939, u'pr')\n",
      "(0, -1.3989386747495671, u'hungry')\n",
      "(0, -1.4011944041532773, u'double')\n",
      "(0, -1.4020578938854718, u'branding')\n",
      "(0, -1.4021633739092083, u'not_privileges')\n",
      "(0, -1.4469886889273391, u'not_serve')\n",
      "(0, -1.4718335988173681, u'path')\n",
      "(0, -1.4960581123704888, u'pek')\n",
      "(0, -1.5123003649153648, u'not_courtesy')\n",
      "(0, -1.5570073086656935, u'dismissed')\n",
      "(0, -1.6009499460530918, u'cyoonzftdc')\n",
      "(0, -1.6498184624691263, u'denied')\n",
      "(0, -1.7156151475879287, u'not_sell')\n",
      "(0, -1.8213690141499044, u'honestly')\n",
      "(0, -1.8309630408597222, u'http')\n",
      "(0, -1.9482546060706103, u'not_anywhere')\n",
      "(0, -2.4788042011614282, u'shrimp')\n"
     ]
    }
   ],
   "source": [
    "def most_informative_feature(vectorizer, classifier, n):\n",
    "    class_labels = classifier.classes_\n",
    "    feature_names = vectorizer.get_feature_names()\n",
    "    \n",
    "    topn_class1 = sorted(zip(classifier.coef_[0], feature_names))[-n:]\n",
    "    topn_class2 = sorted(zip(classifier.coef_[0], feature_names))[:n]\n",
    "\n",
    "    for coef, feat in sorted((topn_class1),reverse=True):\n",
    "        print(class_labels[1], coef, feat)\n",
    "\n",
    "    print\n",
    "    print\n",
    "    for coef, feat in sorted((topn_class2),reverse=True):\n",
    "        print (class_labels[0], coef, feat)\n",
    "\n",
    "\n",
    "most_informative_feature(vectorizer, lr, n=20)"
   ]
  },
  {
   "cell_type": "markdown",
   "metadata": {},
   "source": [
    "## Future Ideas\n",
    "\n",
    "** Better emoji parsing**\n",
    "\n",
    "**More visualization of correlated features**\n",
    "\n",
    "**Unsupervised clustering**\n",
    "\n",
    "** word2vec**"
   ]
  },
  {
   "cell_type": "markdown",
   "metadata": {
    "collapsed": true
   },
   "source": [
    "## Summary"
   ]
  },
  {
   "cell_type": "markdown",
   "metadata": {},
   "source": [
    "**In my project, I ultimately chose logistic regression to classify tweet sentiment into 'positive' and 'negative' classes. A model was fit to the training data and scored against the test data, resulting in the cross-validated accuracy score of just over 92%. The logistic regression classifier showed that it is a powerful classification technique and has wide-ranging applications, including text classification. **"
   ]
  },
  {
   "cell_type": "markdown",
   "metadata": {},
   "source": [
    "## LogisticRegression Annotation"
   ]
  },
  {
   "cell_type": "markdown",
   "metadata": {},
   "source": [
    "** Student comments marked by '### MP'. Since the LogisticRegression class is somewhat light on the fit() and predict() methods, a brief discussion of logistic regression is provided below to demonstrate proficiency with the concept. **"
   ]
  },
  {
   "cell_type": "code",
   "execution_count": null,
   "metadata": {
    "collapsed": true
   },
   "outputs": [],
   "source": [
    "class LogisticRegression(BaseEstimator, LinearClassifierMixin,\n",
    "                         _LearntSelectorMixin, SparseCoefMixin):\n",
    "    \"\"\"Logistic Regression (aka logit, MaxEnt) classifier.\n",
    "    In the multiclass case, the training algorithm uses the one-vs-rest (OvR)\n",
    "    scheme if the 'multi_class' option is set to 'ovr' and uses the\n",
    "    cross-entropy loss, if the 'multi_class' option is set to 'multinomial'.\n",
    "    (Currently the 'multinomial' option is supported only by the 'lbfgs' and\n",
    "    'newton-cg' solvers.)\n",
    "    This class implements regularized logistic regression using the\n",
    "    `liblinear` library, newton-cg and lbfgs solvers. It can handle both\n",
    "    dense and sparse input. Use C-ordered arrays or CSR matrices containing\n",
    "    64-bit floats for optimal performance; any other input format will be\n",
    "    converted (and copied).\n",
    "    The newton-cg and lbfgs solvers support only L2 regularization with primal\n",
    "    formulation. The liblinear solver supports both L1 and L2 regularization,\n",
    "    with a dual formulation only for the L2 penalty.\n",
    "    Read more in the :ref:`User Guide <logistic_regression>`.\n",
    "    Parameters\n",
    "    ----------\n",
    "    penalty : str, 'l1' or 'l2'\n",
    "        Used to specify the norm used in the penalization. The newton-cg and\n",
    "        lbfgs solvers support only l2 penalties.\n",
    "    dual : bool\n",
    "        Dual or primal formulation. Dual formulation is only implemented for\n",
    "        l2 penalty with liblinear solver. Prefer dual=False when\n",
    "        n_samples > n_features.\n",
    "    C : float, optional (default=1.0)\n",
    "        Inverse of regularization strength; must be a positive float.\n",
    "        Like in support vector machines, smaller values specify stronger\n",
    "        regularization.\n",
    "    fit_intercept : bool, default: True\n",
    "        Specifies if a constant (a.k.a. bias or intercept) should be\n",
    "        added to the decision function.\n",
    "    intercept_scaling : float, default: 1\n",
    "        Useful only if solver is liblinear.\n",
    "        when self.fit_intercept is True, instance vector x becomes\n",
    "        [x, self.intercept_scaling],\n",
    "        i.e. a \"synthetic\" feature with constant value equals to\n",
    "        intercept_scaling is appended to the instance vector.\n",
    "        The intercept becomes intercept_scaling * synthetic feature weight\n",
    "        Note! the synthetic feature weight is subject to l1/l2 regularization\n",
    "        as all other features.\n",
    "        To lessen the effect of regularization on synthetic feature weight\n",
    "        (and therefore on the intercept) intercept_scaling has to be increased.\n",
    "    class_weight : dict or 'balanced', optional\n",
    "        Weights associated with classes in the form ``{class_label: weight}``.\n",
    "        If not given, all classes are supposed to have weight one.\n",
    "        The \"balanced\" mode uses the values of y to automatically adjust\n",
    "        weights inversely proportional to class frequencies in the input data\n",
    "        as ``n_samples / (n_classes * np.bincount(y))``\n",
    "        Note that these weights will be multiplied with sample_weight (passed\n",
    "        through the fit method) if sample_weight is specified.\n",
    "        .. versionadded:: 0.17\n",
    "           *class_weight='balanced'* instead of deprecated *class_weight='auto'*.\n",
    "    max_iter : int\n",
    "        Useful only for the newton-cg, sag and lbfgs solvers.\n",
    "        Maximum number of iterations taken for the solvers to converge.\n",
    "    random_state : int seed, RandomState instance, or None (default)\n",
    "        The seed of the pseudo random number generator to use when\n",
    "        shuffling the data.\n",
    "    solver : {'newton-cg', 'lbfgs', 'liblinear', 'sag'}\n",
    "        Algorithm to use in the optimization problem.\n",
    "        - For small datasets, 'liblinear' is a good choice, whereas 'sag' is\n",
    "            faster for large ones.\n",
    "        - For multiclass problems, only 'newton-cg' and 'lbfgs' handle\n",
    "            multinomial loss; 'sag' and 'liblinear' are limited to\n",
    "            one-versus-rest schemes.\n",
    "        - 'newton-cg', 'lbfgs' and 'sag' only handle L2 penalty.\n",
    "        Note that 'sag' fast convergence is only guaranteed on features with\n",
    "        approximately the same scale. You can preprocess the data with a\n",
    "        scaler from sklearn.preprocessing.\n",
    "        .. versionadded:: 0.17\n",
    "           Stochastic Average Gradient descent solver.\n",
    "    tol : float, optional\n",
    "        Tolerance for stopping criteria.\n",
    "    multi_class : str, {'ovr', 'multinomial'}\n",
    "        Multiclass option can be either 'ovr' or 'multinomial'. If the option\n",
    "        chosen is 'ovr', then a binary problem is fit for each label. Else\n",
    "        the loss minimised is the multinomial loss fit across\n",
    "        the entire probability distribution. Works only for the 'lbfgs'\n",
    "        solver.\n",
    "    verbose : int\n",
    "        For the liblinear and lbfgs solvers set verbose to any positive\n",
    "        number for verbosity.\n",
    "    warm_start : bool, optional\n",
    "        When set to True, reuse the solution of the previous call to fit as\n",
    "        initialization, otherwise, just erase the previous solution.\n",
    "        Useless for liblinear solver.\n",
    "        .. versionadded:: 0.17\n",
    "           *warm_start* to support *lbfgs*, *newton-cg*, *sag* solvers.\n",
    "    n_jobs : int, optional\n",
    "        Number of CPU cores used during the cross-validation loop. If given\n",
    "        a value of -1, all cores are used.\n",
    "    Attributes\n",
    "    ----------\n",
    "    coef_ : array, shape (n_classes, n_features)\n",
    "        Coefficient of the features in the decision function.\n",
    "    intercept_ : array, shape (n_classes,)\n",
    "        Intercept (a.k.a. bias) added to the decision function.\n",
    "        If `fit_intercept` is set to False, the intercept is set to zero.\n",
    "    n_iter_ : array, shape (n_classes,) or (1, )\n",
    "        Actual number of iterations for all classes. If binary or multinomial,\n",
    "        it returns only 1 element. For liblinear solver, only the maximum\n",
    "        number of iteration across all classes is given.\n",
    "    See also\n",
    "    --------\n",
    "    SGDClassifier : incrementally trained logistic regression (when given\n",
    "        the parameter ``loss=\"log\"``).\n",
    "    sklearn.svm.LinearSVC : learns SVM models using the same algorithm.\n",
    "    Notes\n",
    "    -----\n",
    "    The underlying C implementation uses a random number generator to\n",
    "    select features when fitting the model. It is thus not uncommon,\n",
    "    to have slightly different results for the same input data. If\n",
    "    that happens, try with a smaller tol parameter.\n",
    "    Predict output may not match that of standalone liblinear in certain\n",
    "    cases. See :ref:`differences from liblinear <liblinear_differences>`\n",
    "    in the narrative documentation.\n",
    "    References\n",
    "    ----------\n",
    "    LIBLINEAR -- A Library for Large Linear Classification\n",
    "        http://www.csie.ntu.edu.tw/~cjlin/liblinear/\n",
    "    Hsiang-Fu Yu, Fang-Lan Huang, Chih-Jen Lin (2011). Dual coordinate descent\n",
    "        methods for logistic regression and maximum entropy models.\n",
    "        Machine Learning 85(1-2):41-75.\n",
    "        http://www.csie.ntu.edu.tw/~cjlin/papers/maxent_dual.pdf\n",
    "    \"\"\"\n",
    "\n",
    "    def __init__(self, penalty='l2', dual=False, tol=1e-4, C=1.0,\n",
    "                 fit_intercept=True, intercept_scaling=1, class_weight=None,\n",
    "                 random_state=None, solver='liblinear', max_iter=100,\n",
    "                 multi_class='ovr', verbose=0, warm_start=False, n_jobs=1):\n",
    "\n",
    "        self.penalty = penalty\n",
    "        self.dual = dual\n",
    "        self.tol = tol\n",
    "        self.C = C\n",
    "        self.fit_intercept = fit_intercept\n",
    "        self.intercept_scaling = intercept_scaling\n",
    "        self.class_weight = class_weight\n",
    "        self.random_state = random_state\n",
    "        self.solver = solver\n",
    "        self.max_iter = max_iter\n",
    "        self.multi_class = multi_class\n",
    "        self.verbose = verbose\n",
    "        self.warm_start = warm_start\n",
    "        self.n_jobs = n_jobs\n",
    "\n",
    "    def fit(self, X, y, sample_weight=None):\n",
    "        \"\"\"Fit the model according to the given training data.\n",
    "        Parameters\n",
    "        ----------\n",
    "        X : {array-like, sparse matrix}, shape (n_samples, n_features)\n",
    "            Training vector, where n_samples in the number of samples and\n",
    "            n_features is the number of features.\n",
    "        y : array-like, shape (n_samples,)\n",
    "            Target vector relative to X.\n",
    "        sample_weight : array-like, shape (n_samples,) optional\n",
    "            Array of weights that are assigned to individual samples.\n",
    "            If not provided, then each sample is given unit weight.\n",
    "            .. versionadded:: 0.17\n",
    "               *sample_weight* support to LogisticRegression.\n",
    "        Returns\n",
    "        -------\n",
    "        self : object\n",
    "            Returns self.\n",
    "        \"\"\"\n",
    "        \n",
    "        ### MP: Raise ValueError statements for basic housekeeping (bad parameter values)\n",
    "        if not isinstance(self.C, numbers.Number) or self.C < 0:\n",
    "            raise ValueError(\"Penalty term must be positive; got (C=%r)\"\n",
    "                             % self.C)\n",
    "        if not isinstance(self.max_iter, numbers.Number) or self.max_iter < 0:\n",
    "            raise ValueError(\"Maximum number of iteration must be positive;\"\n",
    "                             \" got (max_iter=%r)\" % self.max_iter)\n",
    "        if not isinstance(self.tol, numbers.Number) or self.tol < 0:\n",
    "            raise ValueError(\"Tolerance for stopping criteria must be \"\n",
    "                             \"positive; got (tol=%r)\" % self.tol)\n",
    "\n",
    "        X, y = check_X_y(X, y, accept_sparse='csr', dtype=np.float64, \n",
    "                         order=\"C\")\n",
    "        check_classification_targets(y)\n",
    "        self.classes_ = np.unique(y)\n",
    "        n_samples, n_features = X.shape\n",
    "\n",
    "        _check_solver_option(self.solver, self.multi_class, self.penalty,\n",
    "                             self.dual, sample_weight)\n",
    "        \n",
    "        ### MP: Depending on the user input, any one of a number of solver algorithms will be employed.\n",
    "        ### The distinction is in how they solve the optimization problem. Since many are unfamiliar,\n",
    "        ### Only 'liblinear' (one vs. rest) and 'lbfgs' (multinomial) will be described.\n",
    "        if self.solver == 'liblinear':\n",
    "            \n",
    "            ### MP: This is where the intercepts are fitted with an import statement from ..svm.base._fit_liblinear\n",
    "            ### Similar to any generic linear model, the weights are fit to minimize squared error \n",
    "            ### between the model and data. See below for modeling specific to logistic regression\n",
    "            self.coef_, self.intercept_, n_iter_ = _fit_liblinear(\n",
    "                X, y, self.C, self.fit_intercept, self.intercept_scaling,\n",
    "                self.class_weight, self.penalty, self.dual, self.verbose,\n",
    "                self.max_iter, self.tol, self.random_state)\n",
    "            self.n_iter_ = np.array([n_iter_])\n",
    "            return self\n",
    "\n",
    "        max_squared_sum = get_max_squared_sum(X) if self.solver == 'sag' \\\n",
    "            else None\n",
    "\n",
    "        n_classes = len(self.classes_)\n",
    "        classes_ = self.classes_\n",
    "        if n_classes < 2:\n",
    "            raise ValueError(\"This solver needs samples of at least 2 classes\"\n",
    "                             \" in the data, but the data contains only one\"\n",
    "                             \" class: %r\" % classes_[0])\n",
    "\n",
    "        if len(self.classes_) == 2:\n",
    "            n_classes = 1\n",
    "            classes_ = classes_[1:]\n",
    "\n",
    "        if self.warm_start:\n",
    "            warm_start_coef = getattr(self, 'coef_', None)\n",
    "        else:\n",
    "            warm_start_coef = None\n",
    "        if warm_start_coef is not None and self.fit_intercept:\n",
    "            warm_start_coef = np.append(warm_start_coef,\n",
    "                                        self.intercept_[:, np.newaxis],\n",
    "                                        axis=1)\n",
    "\n",
    "        self.coef_ = list()\n",
    "        self.intercept_ = np.zeros(n_classes)\n",
    "\n",
    "        # Hack so that we iterate only once for the multinomial case.\n",
    "        if self.multi_class == 'multinomial':\n",
    "            classes_ = [None]\n",
    "            warm_start_coef = [warm_start_coef]\n",
    "\n",
    "        if warm_start_coef is None:\n",
    "            warm_start_coef = [None] * n_classes\n",
    "\n",
    "        path_func = delayed(logistic_regression_path)\n",
    "\n",
    "        # The SAG solver releases the GIL so it's more efficient to use\n",
    "        # threads for this solver.\n",
    "        backend = 'threading' if self.solver == 'sag' else 'multiprocessing'\n",
    "        fold_coefs_ = Parallel(n_jobs=self.n_jobs, verbose=self.verbose,\n",
    "                               backend=backend)(\n",
    "            path_func(X, y, pos_class=class_, Cs=[self.C],\n",
    "                      fit_intercept=self.fit_intercept, tol=self.tol,\n",
    "                      verbose=self.verbose, solver=self.solver, copy=False,\n",
    "                      multi_class=self.multi_class, max_iter=self.max_iter,\n",
    "                      class_weight=self.class_weight, check_input=False,\n",
    "                      random_state=self.random_state, coef=warm_start_coef_,\n",
    "                      max_squared_sum=max_squared_sum,\n",
    "                      sample_weight=sample_weight)\n",
    "            for (class_, warm_start_coef_) in zip(classes_, warm_start_coef))\n",
    "\n",
    "        fold_coefs_, _, n_iter_ = zip(*fold_coefs_)\n",
    "        self.n_iter_ = np.asarray(n_iter_, dtype=np.int32)[:, 0]\n",
    "\n",
    "        if self.multi_class == 'multinomial':\n",
    "            self.coef_ = fold_coefs_[0][0]\n",
    "        else:\n",
    "            self.coef_ = np.asarray(fold_coefs_)\n",
    "            self.coef_ = self.coef_.reshape(n_classes, n_features +\n",
    "                                            int(self.fit_intercept))\n",
    "        ### MP: If fit_intercept is True (default), the model is fit with an intercept. If False, no intercept\n",
    "        if self.fit_intercept:\n",
    "            self.intercept_ = self.coef_[:, -1]\n",
    "            self.coef_ = self.coef_[:, :-1]\n",
    "            \n",
    "        ### MP: Execute method, return\n",
    "        return self\n",
    "\n",
    "    def predict_proba(self, X):\n",
    "        \"\"\"Probability estimates.\n",
    "        The returned estimates for all classes are ordered by the\n",
    "        label of classes.\n",
    "        For a multi_class problem, if multi_class is set to be \"multinomial\"\n",
    "        the softmax function is used to find the predicted probability of\n",
    "        each class.\n",
    "        Else use a one-vs-rest approach, i.e calculate the probability\n",
    "        of each class assuming it to be positive using the logistic function.\n",
    "        and normalize these values across all the classes.\n",
    "        Parameters\n",
    "        ----------\n",
    "        X : array-like, shape = [n_samples, n_features]\n",
    "        Returns\n",
    "        -------\n",
    "        T : array-like, shape = [n_samples, n_classes]\n",
    "            Returns the probability of the sample for each class in the model,\n",
    "            where classes are ordered as they are in ``self.classes_``.\n",
    "        \"\"\"\n",
    "        if not hasattr(self, \"coef_\"):\n",
    "            raise NotFittedError(\"Call fit before prediction\")\n",
    "            \n",
    "        ### MP: If the height of the coefficient vector is one or if the user selects one vs. rest, \n",
    "        ### calculate_ovr = True\n",
    "        calculate_ovr = self.coef_.shape[0] == 1 or self.multi_class == \"ovr\"\n",
    "        \n",
    "        if calculate_ovr:\n",
    "            \n",
    "            ### MP: If True, Probabilities are calculated in the usual way as with other logistic \n",
    "            ### regression problems\n",
    "            return super(LogisticRegression, self)._predict_proba_lr(X)\n",
    "\n",
    "        else:\n",
    "            \n",
    "            ### MP: Else, return the softmax solution to the problem, the generalization of logistic\n",
    "            ### regression problem, given below\n",
    "            return softmax(self.decision_function(X), copy=False)\n",
    "\n",
    "    def predict_log_proba(self, X):\n",
    "        \"\"\"Log of probability estimates.\n",
    "        The returned estimates for all classes are ordered by the\n",
    "        label of classes.\n",
    "        Parameters\n",
    "        ----------\n",
    "        X : array-like, shape = [n_samples, n_features]\n",
    "        Returns\n",
    "        -------\n",
    "        T : array-like, shape = [n_samples, n_classes]\n",
    "            Returns the log-probability of the sample for each class in the\n",
    "            model, where classes are ordered as they are in ``self.classes_``.\n",
    "        \"\"\"\n",
    "        \n",
    "        ### MP: Similiar to above function, only now the values returned are the log probabilities\n",
    "        return np.log(self.predict_proba(X))"
   ]
  },
  {
   "cell_type": "markdown",
   "metadata": {},
   "source": [
    "### General Discussion  on Logistic Regression"
   ]
  },
  {
   "cell_type": "markdown",
   "metadata": {},
   "source": [
    "The hypothesis can be stated to the probability that the response variable belongs to some class.\n",
    "\n",
    "**Hypothesis:** \n",
    "\n",
    "$$ {\\bf{h_{\\theta}}}x = \\frac{e^{x^T \\theta}}{1 + e^{x^T \\theta}} = \\frac{1}{1 + e^{-x^T \\theta}} $$ \n",
    "\n",
    "where $\\theta$ is a vector comprising the weights or coefficients of your model.\n",
    "\n",
    "Softmax: the general form in the case of $K$ distinct linear functions, where the response variable can belong to any one of $j$ classes:\n",
    "\n",
    "$${\\bf{h_{\\theta_j}}}x = \\frac{e^{x^T \\theta_j}}{\\sum_{k=1}^K e^{x^T \\theta_k}}$$\n",
    "\n",
    "**Cost: **\n",
    "\n",
    "$$ {\\bf{J_{\\theta}}} = - \\frac{1}{n} \\left( \\sum_{i = 1}^{n} y^{(i)} log({\\bf{h_{\\theta}}}x^{(i)}) + (1 - y^{(i)}) log(1 - {\\bf{h_{\\theta}}}x^{(i)}) \\right)$$\n",
    "\n",
    "**Optimization:**\n",
    "\n",
    "The optimization function to the problem is found by taking the partial derivative of the cost function with respect to each of the weights; that is, the gradient of the cost function.\n",
    "\n",
    "$$\\frac{\\partial}{\\partial {\\bf{\\theta_j}}}{\\bf{J_{\\theta}}} =-\\frac{1}{n} \\sum_{i=1}^{n} \\left( y^{(i)} - p(x^{(i)}) \\right) x_{j}^{(i)} $$\n",
    "\n",
    "where $x_{j}^{(i)} = 1$ (intercept) if $j = 0$ and $x_{j}^{(i)} = x^{(i)}$ if $j = 1$"
   ]
  },
  {
   "cell_type": "markdown",
   "metadata": {},
   "source": []
  }
 ],
 "metadata": {
  "kernelspec": {
   "display_name": "Python 2",
   "language": "python",
   "name": "python2"
  },
  "language_info": {
   "codemirror_mode": {
    "name": "ipython",
    "version": 2
   },
   "file_extension": ".py",
   "mimetype": "text/x-python",
   "name": "python",
   "nbconvert_exporter": "python",
   "pygments_lexer": "ipython2",
   "version": "2.7.10"
  }
 },
 "nbformat": 4,
 "nbformat_minor": 0
}
